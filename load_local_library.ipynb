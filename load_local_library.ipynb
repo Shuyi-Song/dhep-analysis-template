{
  "nbformat": 4,
  "nbformat_minor": 0,
  "metadata": {
    "colab": {
      "provenance": [],
      "include_colab_link": true
    },
    "kernelspec": {
      "name": "python3",
      "display_name": "Python 3"
    },
    "language_info": {
      "name": "python"
    }
  },
  "cells": [
    {
      "cell_type": "markdown",
      "metadata": {
        "id": "view-in-github",
        "colab_type": "text"
      },
      "source": [
        "<a href=\"https://colab.research.google.com/github/Shuyi-Song/dhep-analysis-template/blob/master/load_local_library.ipynb\" target=\"_parent\"><img src=\"https://colab.research.google.com/assets/colab-badge.svg\" alt=\"Open In Colab\"/></a>"
      ]
    },
    {
      "cell_type": "markdown",
      "source": [
        "## Load the Packages"
      ],
      "metadata": {
        "id": "0DWolcYYvdBP"
      }
    },
    {
      "cell_type": "code",
      "metadata": {
        "id": "2GUKvghBwgMw"
      },
      "source": [
        "%load_ext rpy2.ipython\n",
        "from google.colab import drive\n",
        "drive.mount('/content/drive')\n",
        "%cp drive/MyDrive/src/library.tar.gz .\n",
        "!du -sh library.tar.gz\n",
        "!tar xf library.tar.gz\n",
        "%ls usr/local/lib/R/site-library/"
      ],
      "execution_count": null,
      "outputs": []
    },
    {
      "cell_type": "code",
      "metadata": {
        "id": "ZdTW2K-dxwlM"
      },
      "source": [
        "%%R\n",
        ".libPaths('usr/local/lib/R/site-library/')\n",
        ".libPaths()\n",
        "library(c('tidyverse', 'ggplot2', 'GGally'))"
      ],
      "execution_count": null,
      "outputs": []
    }
  ]
}