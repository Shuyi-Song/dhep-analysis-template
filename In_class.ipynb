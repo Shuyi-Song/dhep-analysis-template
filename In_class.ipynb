{
  "nbformat": 4,
  "nbformat_minor": 0,
  "metadata": {
    "colab": {
      "provenance": [],
      "include_colab_link": true
    },
    "kernelspec": {
      "name": "python3",
      "display_name": "Python 3"
    },
    "language_info": {
      "name": "python"
    }
  },
  "cells": [
    {
      "cell_type": "markdown",
      "metadata": {
        "id": "view-in-github",
        "colab_type": "text"
      },
      "source": [
        "<a href=\"https://colab.research.google.com/github/Shuyi-Song/dhep-analysis-template/blob/master/In_class.ipynb\" target=\"_parent\"><img src=\"https://colab.research.google.com/assets/colab-badge.svg\" alt=\"Open In Colab\"/></a>"
      ]
    },
    {
      "cell_type": "markdown",
      "source": [
        "## Load the packages\n"
      ],
      "metadata": {
        "id": "TlpwIqHRwSBt"
      }
    },
    {
      "cell_type": "code",
      "metadata": {
        "id": "2GUKvghBwgMw"
      },
      "source": [
        "%load_ext rpy2.ipython\n",
        "from google.colab import drive\n",
        "drive.mount('/content/drive')\n",
        "%cp drive/MyDrive/src/library.tar.gz .\n",
        "!du -sh library.tar.gz\n",
        "!tar xf library.tar.gz\n",
        "%ls usr/local/lib/R/site-library/"
      ],
      "execution_count": null,
      "outputs": []
    },
    {
      "cell_type": "code",
      "metadata": {
        "colab": {
          "base_uri": "https://localhost:8080/"
        },
        "id": "cHb5kyK-wvdQ",
        "outputId": "bf836f9b-ba07-4bfe-d1be-658186df3282"
      },
      "source": [
        "%%R\n",
        ".libPaths('usr/local/lib/R/site-library/')\n",
        ".libPaths()\n",
        "library(c('tidyverse', 'ggplot2', 'GGally'))"
      ],
      "execution_count": null,
      "outputs": [
        {
          "output_type": "stream",
          "name": "stdout",
          "text": [
            "Mounted at /content/drive\n"
          ]
        }
      ]
    }
  ]
}